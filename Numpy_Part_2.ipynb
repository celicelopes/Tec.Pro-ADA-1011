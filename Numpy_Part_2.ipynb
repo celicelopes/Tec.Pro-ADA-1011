{
 "cells": [
  {
   "cell_type": "markdown",
   "metadata": {},
   "source": [
    "# <span style=\"color:blue\"> Ada Tech</span>\n",
    "# <span style=\"color:blue\">Técnicas de Programação I - Python</span>\n",
    "\n",
    "## <span style=\"color:blue\">Numpy Parte II</span>\n",
    "**Maurício Luiz Sobrinho**<br>\n",
    "**Matheus Parreiras Andrade**<br>\n",
    "**Ada**\n",
    "---"
   ]
  },
  {
   "cell_type": "markdown",
   "metadata": {},
   "source": [
    "## Numpy - Parte II\n",
    "- Comparações\n",
    "- Operações Avançadas: Reduções e Ordenação\n"
   ]
  },
  {
   "cell_type": "markdown",
   "metadata": {},
   "source": [
    "---\n",
    "## Numpy - Parte II"
   ]
  },
  {
   "cell_type": "markdown",
   "metadata": {},
   "source": [
    "### Comparações\n",
    "Comparações usando `==`, `>`,`<`,`>=`,`<=`, e `!=` também são feitas elemento por elemento."
   ]
  },
  {
   "cell_type": "code",
   "execution_count": 22,
   "metadata": {},
   "outputs": [
    {
     "name": "stdout",
     "output_type": "stream",
     "text": [
      "[[0 1]\n",
      " [2 3]] \n",
      "\n",
      "[[6 5]\n",
      " [4 3]] \n",
      "\n",
      "[[False False]\n",
      " [False  True]]\n"
     ]
    }
   ],
   "source": [
    "A = np.arange(4).reshape(2,2)      # matriz 2x2\n",
    "B = np.arange(6,2,-1).reshape(2,2) # matriz 2x2\n",
    "\n",
    "M = (B == A)\n",
    "\n",
    "print(A,'\\n')\n",
    "print(B,'\\n')\n",
    "print(M)"
   ]
  },
  {
   "cell_type": "markdown",
   "metadata": {},
   "source": [
    "Para verificar se dois arrays são iguais (todos elementos são iguais) deve-se utilizar o método <font color='blue'>array_equal</font>."
   ]
  },
  {
   "cell_type": "code",
   "execution_count": 16,
   "metadata": {},
   "outputs": [
    {
     "name": "stdout",
     "output_type": "stream",
     "text": [
      "False\n",
      "True\n",
      "False\n"
     ]
    }
   ],
   "source": [
    "A = np.arange(4).reshape(2,2)      # matrix 2x2\n",
    "B = np.arange(6,2,-1).reshape(2,2) # matrix 2x2\n",
    "C = np.copy(A)\n",
    "\n",
    "# A resposta é apenas um valor booleano\n",
    "print(np.array_equal(A,B))\n",
    "print(np.array_equal(A,C))\n",
    "\n",
    "# np.array_equal(A,B) é equivalente a:\n",
    "D = (A==B)\n",
    "print(np.all(D))"
   ]
  },
  {
   "cell_type": "markdown",
   "metadata": {},
   "source": [
    "### Reduções\n",
    "O <font color='blue'>numpy</font> possui métodos de redução como  <font color='blue'>sum</font>, <font color='blue'>max</font>, <font color='blue'>min</font>, <font color='blue'>argmax</font> e <font color='blue'>argmin</font>. Tais métodos podem ser aplicados ao array como um todo ou somente às linhas ou colunas.\n",
    "O que controla a forma de aplicação é o parâmetro 'axis'. Quando o parâmetro 'axis' não é especificado, a redução é aplicada ao array todo. \n",
    "- 'axis' não especificado: retorna um valor único\n",
    "- 'axis=0' restringe a redução às colunas (percorre as linhas): retorna um array com número de elementos igual ao número de colunas\n",
    "- 'axis=1' restringe a redução às linhas (percorre as colunas): retorna um array com número de elementos igual ao número de linhas"
   ]
  },
  {
   "cell_type": "code",
   "execution_count": 26,
   "metadata": {},
   "outputs": [
    {
     "name": "stdout",
     "output_type": "stream",
     "text": [
      "[[0. 1. 2. 3. 4.]\n",
      " [0. 1. 2. 3. 4.]\n",
      " [0. 1. 2. 3. 4.]\n",
      " [0. 1. 2. 3. 4.]\n",
      " [0. 1. 2. 3. 4.]] \n",
      "\n",
      "Soma de todos os valores:  50.0\n",
      "Soma dos valores das colunas:  [ 0.  5. 10. 15. 20.]\n",
      "Soma dos valores das linnhas:  [10. 10. 10. 10. 10.]\n"
     ]
    }
   ],
   "source": [
    "A = np.zeros((5,5))  # matriz 5x5 de zeros\n",
    "A[:] = np.arange(5)  # broadcasting o array [0,1,2,3,4] nas linhas\n",
    "\n",
    "print(A,'\\n')\n",
    "\n",
    "print('Soma de todos os valores: ', np.sum(A)) # todos os elementos\n",
    "print('Soma dos valores das colunas: ', np.sum(A,axis=0)) # soma os valores das colunas\n",
    "print('Soma dos valores das linnhas: ', np.sum(A,axis=1)) # soma os valores das linhas"
   ]
  },
  {
   "cell_type": "code",
   "execution_count": 19,
   "metadata": {},
   "outputs": [
    {
     "name": "stdout",
     "output_type": "stream",
     "text": [
      "[[19  8 21  1 26]\n",
      " [12 15 15  2 20]\n",
      " [ 8  4 21 22  6]\n",
      " [17 14  4 20  5]\n",
      " [14  2 29  7 26]] \n",
      "\n",
      "Maior valor dentre todos na matriz:  29\n",
      "Posição do maior valor dentre todos na matriz:  22\n",
      "Maior valor em cada coluna:  [19 15 29 22 26]\n",
      "Posição do maior valor em cada coluna:  [0 1 4 2 0]\n"
     ]
    }
   ],
   "source": [
    "A = np.random.randint(low=0,high=30,size=(5,5)) # matriz 5x5 com números inteiros \n",
    "                                                # randomicos no intervalor entre 0 e 30\n",
    "print(A,'\\n')\n",
    "\n",
    "# todos os elementos\n",
    "print('Maior valor dentre todos na matriz: ',np.max(A))    # maior valor da matriz\n",
    "print('Posição do maior valor dentre todos na matriz: ',np.argmax(A)) # lineariza a matriz com A.ravel() e \n",
    "                                                                      # retorna a posicão do maior valor\n",
    "\n",
    "# Por coluna\n",
    "print('Maior valor em cada coluna: ',np.max(A,axis=0))  # maior valor em cada coluna\n",
    "print('Posição do maior valor em cada coluna: ',np.argmax(A,axis=0)) # posição do maior valor em cada coluna"
   ]
  },
  {
   "cell_type": "markdown",
   "metadata": {},
   "source": [
    "Reduções estatísticas como:\n",
    "- <font color='blue'>mean</font>: média aritmética\n",
    "- <font color='blue'>median</font>: mediana \n",
    "- <font color='blue'>std</font>: desvio padrão\n",
    "\n",
    "funcionam da mesma forma, ou seja, podem ser aplicados ao array como um todo ou somente às linhas e colunas utilizando o parâmetro 'axis'."
   ]
  },
  {
   "cell_type": "code",
   "execution_count": 33,
   "metadata": {},
   "outputs": [
    {
     "name": "stdout",
     "output_type": "stream",
     "text": [
      "[[ 3.  9. 15. 21.  8.]\n",
      " [ 8. 20. 26. 27. 29.]\n",
      " [21. 28. 12. 29.  2.]\n",
      " [25. 13. 22.  9. 10.]\n",
      " [13. 29. 20. 14.  5.]] \n",
      "\n",
      "Media de todos os valores:  16.72\n",
      "Media por coluna:  [14.  19.8 19.  20.  10.8]\n",
      "Media por linha:  [11.2 22.  18.4 15.8 16.2]\n"
     ]
    }
   ],
   "source": [
    "A = np.random.randint(low=0,high=30,size=(5,5)).astype(float)\n",
    "print(A,'\\n')\n",
    "\n",
    "print('Media de todos os valores: ',np.mean(A))   # média de todos os valores\n",
    "print('Media por coluna: ',np.mean(A,axis=0))     # média por coluna\n",
    "print('Media por linha: ',np.mean(A,axis=1))      # média por linha"
   ]
  },
  {
   "cell_type": "markdown",
   "metadata": {},
   "source": [
    "#### Redução lógica\n",
    "O métodos \n",
    "- <font color='blue'>all</font>: verifica se todos os elementos do array satisfazem a condição (True)\n",
    "- <font color='blue'>any</font>: verifica se algum elemento do array satisfaz a condição (True)\n",
    "\n",
    "também podem ser aplicados ao array como um todo ou somente às linhas e colunas utilizando o parâmetro 'axis'."
   ]
  },
  {
   "cell_type": "code",
   "execution_count": 40,
   "metadata": {},
   "outputs": [
    {
     "name": "stdout",
     "output_type": "stream",
     "text": [
      "[[ 0  1  2  3  4]\n",
      " [ 5  6  7  8  9]\n",
      " [10 11 12 13 14]\n",
      " [15 16 17 18 19]\n",
      " [20 21 22 23 24]] \n",
      "\n",
      "[[False  True  True  True  True]\n",
      " [ True  True  True  True  True]\n",
      " [ True  True  True  True  True]\n",
      " [ True  True  True  True  True]\n",
      " [ True  True  True  True  True]] \n",
      "\n",
      "Todos os elementos são TRUE?  False\n",
      "Algum elemento é TRUE?  True\n",
      "Todos os elementos de cada coluna são TRUE?  [False  True  True  True  True]\n",
      "Algum elemento de cada linha é TRUE?  [ True  True  True  True  True]\n"
     ]
    }
   ],
   "source": [
    "A = np.arange(25).reshape(5,5)\n",
    "print(A,'\\n')\n",
    "\n",
    "M = A > 0\n",
    "print(M,'\\n')\n",
    "\n",
    "print('Todos os elementos são TRUE? ', np.all(M))\n",
    "print('Algum elemento é TRUE? ',np.any(M))\n",
    "\n",
    "print('Todos os elementos de cada coluna são TRUE? ',np.all(M,axis=0))\n",
    "print('Algum elemento de cada linha é TRUE? ',np.any(M,axis=1))"
   ]
  },
  {
   "cell_type": "markdown",
   "metadata": {},
   "source": [
    "### Ordenação \n",
    "#### <font color='blue'>sort</font>\n",
    "O método <font color='blue'>sort</font> do <font color='blue'>numpy</font> ordena os elementos do array. \n",
    "- Quando o método <font color='blue'>sort</font> é invocado utilizando a própria variável, a ordenação é feita diretamente no array (inplace). Por exemplo:\n",
    "```python\n",
    "A = np.random.randint(low=0,high=30,size=(5,5))\n",
    "A.sort()  # modifica o array original\n",
    "```\n",
    "- Quando o método <font color='blue'>sort</font> é invocado pelo <font color='blue'>numpy</font> uma cópia ordenada do array é gerada (o array original não é modificado).\n",
    "```python\n",
    "A = np.random.randint(low=0,high=30,size=(5,5))\n",
    "B = np.sort(A)  # `B` é uma cópia de `A` com linhas ordenas (`A` não é afetado)\n",
    "```\n",
    "\n",
    "Por padrão a ordenação é feita em cada linha (`axis=1` é o valor padrão do parâmetro 'axis' no comando <font color='blue'>sort</font>) "
   ]
  },
  {
   "cell_type": "code",
   "execution_count": 20,
   "metadata": {},
   "outputs": [
    {
     "name": "stdout",
     "output_type": "stream",
     "text": [
      "Array original \"A\": \n",
      " [[22  5 29 27  1]\n",
      " [21  8  1 17 26]\n",
      " [21  3  4  1 22]\n",
      " [19 19 24  4 18]\n",
      " [19  3  5 24 19]] \n",
      "\n",
      "\"B\" é cópia de \"A\" com valores das linhas ordenados. Array \"A\" não é alterado:\n",
      "B = \n",
      " [[ 1  5 22 27 29]\n",
      " [ 1  8 17 21 26]\n",
      " [ 1  3  4 21 22]\n",
      " [ 4 18 19 19 24]\n",
      " [ 3  5 19 19 24]] \n",
      "\n",
      "A = \n",
      " [[22  5 29 27  1]\n",
      " [21  8  1 17 26]\n",
      " [21  3  4  1 22]\n",
      " [19 19 24  4 18]\n",
      " [19  3  5 24 19]] \n",
      "\n"
     ]
    }
   ],
   "source": [
    "A = np.random.randint(low=0,high=30,size=(5,5))\n",
    "print('Array original \"A\": \\n',A,'\\n')\n",
    "\n",
    "B = np.sort(A) # `B` é uma cópia de `A` com linhas ordenas\n",
    "print('\"B\" é cópia de \"A\" com valores das linhas ordenados. Array \"A\" não é alterado:')\n",
    "print('B = \\n',B,'\\n')\n",
    "print('A = \\n',A,'\\n')"
   ]
  },
  {
   "cell_type": "code",
   "execution_count": 21,
   "metadata": {},
   "outputs": [
    {
     "name": "stdout",
     "output_type": "stream",
     "text": [
      "Os valores das linhas do array \"A\" são ordenados: \n",
      " A =\n",
      " [[ 1  5 22 27 29]\n",
      " [ 1  8 17 21 26]\n",
      " [ 1  3  4 21 22]\n",
      " [ 4 18 19 19 24]\n",
      " [ 3  5 19 19 24]] \n",
      "\n",
      "Os valores das colunas são ordenadas:  \n",
      " A =\n",
      " [[ 1  3  4 19 22]\n",
      " [ 1  5 17 19 24]\n",
      " [ 1  5 19 21 24]\n",
      " [ 3  8 19 21 26]\n",
      " [ 4 18 22 27 29]] \n",
      "\n"
     ]
    }
   ],
   "source": [
    "A.sort()  # as linhas de `A` são ordenadas modificando o array original\n",
    "print('Os valores das linhas do array \"A\" são ordenados: \\n A =\\n',A,'\\n')\n",
    "\n",
    "A.sort(axis=0) # as COLUNAS de `A` são ordenadas modificando o array original\n",
    "print('Os valores das colunas são ordenadas:  \\n A =\\n',A,'\\n')"
   ]
  },
  {
   "cell_type": "markdown",
   "metadata": {},
   "source": [
    "#### <font color='blue'>argsort</font>\n",
    "O método <font color='blue'>argsort</font> retorna um array contendo os índicies dos elementos ordenados nas linhas. O parâmetro 'axis=0' pode ser utilizado para que a ordenação seja aplicada às colunas.   "
   ]
  },
  {
   "cell_type": "code",
   "execution_count": 60,
   "metadata": {},
   "outputs": [
    {
     "name": "stdout",
     "output_type": "stream",
     "text": [
      "[[12.  1. 26.]\n",
      " [23.  0.  7.]\n",
      " [10. 19. 21.]] \n",
      "\n",
      "[[1 0 2]\n",
      " [1 2 0]\n",
      " [0 1 2]] \n",
      "\n",
      "Indices dos elementos ordenados na linha  0 :  [1 0 2]\n",
      "Linha 0 :            [12.  1. 26.]\n",
      "Linha  0  ordenada:  [ 1. 12. 26.] \n",
      "\n",
      "Indices dos elementos ordenados na linha  1 :  [1 2 0]\n",
      "Linha 1 :            [23.  0.  7.]\n",
      "Linha  1  ordenada:  [ 0.  7. 23.] \n",
      "\n",
      "Indices dos elementos ordenados na linha  2 :  [0 1 2]\n",
      "Linha 2 :            [10. 19. 21.]\n",
      "Linha  2  ordenada:  [10. 19. 21.] \n",
      "\n"
     ]
    }
   ],
   "source": [
    "A = np.array([[12.0,  1.0, 26.0],\n",
    "              [23.0,  0.0,  7.0],\n",
    "              [10.0,  19.0, 21.0]])\n",
    "print(A,'\\n')\n",
    "\n",
    "I = np.argsort(A)  # fornece os indices dos elementos ordenados em cada linha\n",
    "print(I,'\\n')\n",
    "\n",
    "for i in range(A.shape[0]):\n",
    "    print('Indices dos elementos ordenados na linha ',i,': ',I[i])\n",
    "    print('Linha',i,': '+10*' ',A[i])\n",
    "    print('Linha ',i,' ordenada: ',A[i,I[i]],'\\n')"
   ]
  }
 ],
 "metadata": {
  "kernelspec": {
   "display_name": "Python 3",
   "language": "python",
   "name": "python3"
  },
  "language_info": {
   "codemirror_mode": {
    "name": "ipython",
    "version": 3
   },
   "file_extension": ".py",
   "mimetype": "text/x-python",
   "name": "python",
   "nbconvert_exporter": "python",
   "pygments_lexer": "ipython3",
   "version": "3.8.9"
  },
  "toc": {
   "base_numbering": 1,
   "nav_menu": {},
   "number_sections": true,
   "sideBar": true,
   "skip_h1_title": false,
   "title_cell": "Table of Contents",
   "title_sidebar": "Contents",
   "toc_cell": false,
   "toc_position": {},
   "toc_section_display": true,
   "toc_window_display": false
  }
 },
 "nbformat": 4,
 "nbformat_minor": 2
}
