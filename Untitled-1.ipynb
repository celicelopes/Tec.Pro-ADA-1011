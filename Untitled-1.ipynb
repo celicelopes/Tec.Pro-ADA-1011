{
 "cells": [
  {
   "cell_type": "code",
   "execution_count": 1,
   "metadata": {},
   "outputs": [],
   "source": [
    "import numpy as np"
   ]
  },
  {
   "cell_type": "code",
   "execution_count": 2,
   "metadata": {},
   "outputs": [
    {
     "data": {
      "text/plain": [
       "[1, 3, 5, 6, 8, 9, 10]"
      ]
     },
     "execution_count": 2,
     "metadata": {},
     "output_type": "execute_result"
    }
   ],
   "source": [
    "lst = [1,3,5,6,8,9,10]\n",
    "lst"
   ]
  },
  {
   "cell_type": "code",
   "execution_count": 4,
   "metadata": {},
   "outputs": [
    {
     "name": "stdout",
     "output_type": "stream",
     "text": [
      "[ 1  3  5  6  8  9 10]\n",
      "elemento 0 = 1\n",
      "elemento 3 = 6\n",
      "ultimo elemento = 10\n"
     ]
    }
   ],
   "source": [
    "a1d  = np.array(lst)\n",
    "a1d\n",
    "print(a1d)\n",
    "\n",
    "print('elemento 0 =', a1d[0])\n",
    "print('elemento 3 =', a1d[3])\n",
    "print('ultimo elemento =', a1d[-1])"
   ]
  },
  {
   "cell_type": "code",
   "execution_count": 7,
   "metadata": {},
   "outputs": [
    {
     "name": "stdout",
     "output_type": "stream",
     "text": [
      "[[ 1  3  5  7  9 11]\n",
      " [ 2  4  6  8 10 12]\n",
      " [ 0  1  2  3  4  5]]\n",
      "Linha indice 1 = [ 2  4  6  8 10 12]\n"
     ]
    }
   ],
   "source": [
    "l2d = [[1,3,5,7,9,11],[2,4,6,8,10,12],[0,1,2,3,4,5]]\n",
    "a2d = np.array(l2d)\n",
    "print(a2d)\n",
    "print('Linha indice 1 =', a2d[1])"
   ]
  },
  {
   "cell_type": "code",
   "execution_count": 8,
   "metadata": {},
   "outputs": [
    {
     "name": "stdout",
     "output_type": "stream",
     "text": [
      "elemento linha 0 coluna 1 = 3\n",
      "elemento linha 1 coluna 2 = 6\n",
      "elemento ultima linha ultima coluna = 5\n",
      "elemento ultima linha ultima coluna = 5\n",
      "elemento ultima linha ultima coluna = 5\n"
     ]
    }
   ],
   "source": [
    "print('elemento linha 0 coluna 1 =', a2d[0,1])\n",
    "print('elemento linha 1 coluna 2 =', a2d[1,2])\n",
    "print('elemento ultima linha ultima coluna =', a2d[2,5])\n",
    "print('elemento ultima linha ultima coluna =', a2d[2][5])\n",
    "print('elemento ultima linha ultima coluna =', a2d[-1,-1])\n"
   ]
  },
  {
   "cell_type": "code",
   "execution_count": 10,
   "metadata": {},
   "outputs": [
    {
     "name": "stdout",
     "output_type": "stream",
     "text": [
      "linha  0 elemento = [ 1  3  5  7  9 11]\n",
      "linha  1 elemento = [ 2  4  6  8 10 12]\n",
      "linha  2 elemento = [0 1 2 3 4 5]\n",
      "indice  0  0 = elemento = 1\n",
      "indice  0  1 = elemento = 3\n",
      "indice  0  2 = elemento = 5\n",
      "indice  0  3 = elemento = 7\n",
      "indice  0  4 = elemento = 9\n",
      "indice  0  5 = elemento = 11\n",
      "indice  1  0 = elemento = 2\n",
      "indice  1  1 = elemento = 4\n",
      "indice  1  2 = elemento = 6\n",
      "indice  1  3 = elemento = 8\n",
      "indice  1  4 = elemento = 10\n",
      "indice  1  5 = elemento = 12\n",
      "indice  2  0 = elemento = 0\n",
      "indice  2  1 = elemento = 1\n",
      "indice  2  2 = elemento = 2\n",
      "indice  2  3 = elemento = 3\n",
      "indice  2  4 = elemento = 4\n",
      "indice  2  5 = elemento = 5\n"
     ]
    }
   ],
   "source": [
    "for i,r in enumerate(a2d):\n",
    "    print('linha ', i, 'elemento =',r)\n",
    "\n",
    "for i,r in enumerate(a2d):\n",
    "    for j, e in enumerate(r):\n",
    "        print('indice ', i, '', j, '=' ,'elemento =',e)"
   ]
  }
 ],
 "metadata": {
  "kernelspec": {
   "display_name": "Python 3",
   "language": "python",
   "name": "python3"
  },
  "language_info": {
   "codemirror_mode": {
    "name": "ipython",
    "version": 3
   },
   "file_extension": ".py",
   "mimetype": "text/x-python",
   "name": "python",
   "nbconvert_exporter": "python",
   "pygments_lexer": "ipython3",
   "version": "3.10.12"
  },
  "orig_nbformat": 4
 },
 "nbformat": 4,
 "nbformat_minor": 2
}
